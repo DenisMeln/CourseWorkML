{
  "cells": [
    {
      "cell_type": "markdown",
      "source": [
        "# Курсовая работа по дисциплине “Технологии анализа данных и машинное обучение“"
      ],
      "metadata": {
        "id": "rawbTtCdi42l"
      }
    },
    {
      "cell_type": "markdown",
      "source": [
        "## Тема курсовой работы"
      ],
      "metadata": {
        "id": "96Bb7At9i9_C"
      }
    },
    {
      "cell_type": "markdown",
      "source": [
        "Решение задач кластеризации тестов с помощью методов глубокого обучения"
      ],
      "metadata": {
        "id": "-Sh8O5gfi-qX"
      }
    },
    {
      "cell_type": "markdown",
      "source": [
        "## Цель работы"
      ],
      "metadata": {
        "id": "7pwYcBFMjIVQ"
      }
    },
    {
      "cell_type": "markdown",
      "source": [
        "Продемонстрировать владение основными навыками обучения и применения моделей глубокого обучения, владение основными инструментальными средствами библиотек языка программирования Python для глубокого обучения, в том числе фреймворком для глубокого обучения PyTorch, методами сбора и подготовки набора данных, анализа качества обучения модели глубокого обучения, умение делать выводы из проведенного анализа.\n"
      ],
      "metadata": {
        "id": "WPqOCnmpjIve"
      }
    },
    {
      "cell_type": "code",
      "execution_count": 1,
      "metadata": {
        "collapsed": true,
        "ExecuteTime": {
          "end_time": "2023-05-13T22:32:01.477800Z",
          "start_time": "2023-05-13T22:32:01.395075Z"
        },
        "id": "0AP-l6FWCQU8"
      },
      "outputs": [],
      "source": [
        "import pandas as pd\n",
        "import torch\n",
        "import torch.nn as nn\n",
        "import torch.optim as optim\n",
        "from torch.utils.data import Dataset, DataLoader, TensorDataset\n",
        "from sklearn.manifold import TSNE\n",
        "import matplotlib.pyplot as plt\n",
        "from sklearn import metrics\n",
        "from sklearn.metrics.cluster import adjusted_rand_score, normalized_mutual_info_score, fowlkes_mallows_score\n",
        "from sklearn.cluster import KMeans\n",
        "import re"
      ]
    },
    {
      "cell_type": "markdown",
      "source": [
        "## Выполнение работы"
      ],
      "metadata": {
        "id": "eEBlERHojPS4"
      }
    },
    {
      "cell_type": "markdown",
      "source": [
        "Считываем данные из Excel-файла"
      ],
      "metadata": {
        "id": "rrmZAvHyjRCe"
      }
    },
    {
      "cell_type": "code",
      "source": [
        "df = pd.read_excel('texts.xlsx')\n",
        "df.head()"
      ],
      "metadata": {
        "colab": {
          "base_uri": "https://localhost:8080/",
          "height": 206
        },
        "id": "uWirVaoeJsMU",
        "outputId": "5038870a-c2e9-48e6-9f49-1497b46288d6"
      },
      "execution_count": 2,
      "outputs": [
        {
          "output_type": "execute_result",
          "data": {
            "text/plain": [
              "                                                text  label\n",
              "0  Полина составляет 4-буквенные коды из букв П, ...      0\n",
              "1  Петя составляет 6-буквенные коды из букв П, Е,...      0\n",
              "2  Иван составляет 5-буквенные коды из букв И, В,...      0\n",
              "3  Света составляет 5-буквенные коды из букв С, В...      0\n",
              "4  Для передачи сообщений используются 5-буквенны...      0"
            ],
            "text/html": [
              "\n",
              "  <div id=\"df-952e8d6f-aa14-4639-8114-4eef9deac7e1\">\n",
              "    <div class=\"colab-df-container\">\n",
              "      <div>\n",
              "<style scoped>\n",
              "    .dataframe tbody tr th:only-of-type {\n",
              "        vertical-align: middle;\n",
              "    }\n",
              "\n",
              "    .dataframe tbody tr th {\n",
              "        vertical-align: top;\n",
              "    }\n",
              "\n",
              "    .dataframe thead th {\n",
              "        text-align: right;\n",
              "    }\n",
              "</style>\n",
              "<table border=\"1\" class=\"dataframe\">\n",
              "  <thead>\n",
              "    <tr style=\"text-align: right;\">\n",
              "      <th></th>\n",
              "      <th>text</th>\n",
              "      <th>label</th>\n",
              "    </tr>\n",
              "  </thead>\n",
              "  <tbody>\n",
              "    <tr>\n",
              "      <th>0</th>\n",
              "      <td>Полина составляет 4-буквенные коды из букв П, ...</td>\n",
              "      <td>0</td>\n",
              "    </tr>\n",
              "    <tr>\n",
              "      <th>1</th>\n",
              "      <td>Петя составляет 6-буквенные коды из букв П, Е,...</td>\n",
              "      <td>0</td>\n",
              "    </tr>\n",
              "    <tr>\n",
              "      <th>2</th>\n",
              "      <td>Иван составляет 5-буквенные коды из букв И, В,...</td>\n",
              "      <td>0</td>\n",
              "    </tr>\n",
              "    <tr>\n",
              "      <th>3</th>\n",
              "      <td>Света составляет 5-буквенные коды из букв С, В...</td>\n",
              "      <td>0</td>\n",
              "    </tr>\n",
              "    <tr>\n",
              "      <th>4</th>\n",
              "      <td>Для передачи сообщений используются 5-буквенны...</td>\n",
              "      <td>0</td>\n",
              "    </tr>\n",
              "  </tbody>\n",
              "</table>\n",
              "</div>\n",
              "      <button class=\"colab-df-convert\" onclick=\"convertToInteractive('df-952e8d6f-aa14-4639-8114-4eef9deac7e1')\"\n",
              "              title=\"Convert this dataframe to an interactive table.\"\n",
              "              style=\"display:none;\">\n",
              "        \n",
              "  <svg xmlns=\"http://www.w3.org/2000/svg\" height=\"24px\"viewBox=\"0 0 24 24\"\n",
              "       width=\"24px\">\n",
              "    <path d=\"M0 0h24v24H0V0z\" fill=\"none\"/>\n",
              "    <path d=\"M18.56 5.44l.94 2.06.94-2.06 2.06-.94-2.06-.94-.94-2.06-.94 2.06-2.06.94zm-11 1L8.5 8.5l.94-2.06 2.06-.94-2.06-.94L8.5 2.5l-.94 2.06-2.06.94zm10 10l.94 2.06.94-2.06 2.06-.94-2.06-.94-.94-2.06-.94 2.06-2.06.94z\"/><path d=\"M17.41 7.96l-1.37-1.37c-.4-.4-.92-.59-1.43-.59-.52 0-1.04.2-1.43.59L10.3 9.45l-7.72 7.72c-.78.78-.78 2.05 0 2.83L4 21.41c.39.39.9.59 1.41.59.51 0 1.02-.2 1.41-.59l7.78-7.78 2.81-2.81c.8-.78.8-2.07 0-2.86zM5.41 20L4 18.59l7.72-7.72 1.47 1.35L5.41 20z\"/>\n",
              "  </svg>\n",
              "      </button>\n",
              "      \n",
              "  <style>\n",
              "    .colab-df-container {\n",
              "      display:flex;\n",
              "      flex-wrap:wrap;\n",
              "      gap: 12px;\n",
              "    }\n",
              "\n",
              "    .colab-df-convert {\n",
              "      background-color: #E8F0FE;\n",
              "      border: none;\n",
              "      border-radius: 50%;\n",
              "      cursor: pointer;\n",
              "      display: none;\n",
              "      fill: #1967D2;\n",
              "      height: 32px;\n",
              "      padding: 0 0 0 0;\n",
              "      width: 32px;\n",
              "    }\n",
              "\n",
              "    .colab-df-convert:hover {\n",
              "      background-color: #E2EBFA;\n",
              "      box-shadow: 0px 1px 2px rgba(60, 64, 67, 0.3), 0px 1px 3px 1px rgba(60, 64, 67, 0.15);\n",
              "      fill: #174EA6;\n",
              "    }\n",
              "\n",
              "    [theme=dark] .colab-df-convert {\n",
              "      background-color: #3B4455;\n",
              "      fill: #D2E3FC;\n",
              "    }\n",
              "\n",
              "    [theme=dark] .colab-df-convert:hover {\n",
              "      background-color: #434B5C;\n",
              "      box-shadow: 0px 1px 3px 1px rgba(0, 0, 0, 0.15);\n",
              "      filter: drop-shadow(0px 1px 2px rgba(0, 0, 0, 0.3));\n",
              "      fill: #FFFFFF;\n",
              "    }\n",
              "  </style>\n",
              "\n",
              "      <script>\n",
              "        const buttonEl =\n",
              "          document.querySelector('#df-952e8d6f-aa14-4639-8114-4eef9deac7e1 button.colab-df-convert');\n",
              "        buttonEl.style.display =\n",
              "          google.colab.kernel.accessAllowed ? 'block' : 'none';\n",
              "\n",
              "        async function convertToInteractive(key) {\n",
              "          const element = document.querySelector('#df-952e8d6f-aa14-4639-8114-4eef9deac7e1');\n",
              "          const dataTable =\n",
              "            await google.colab.kernel.invokeFunction('convertToInteractive',\n",
              "                                                     [key], {});\n",
              "          if (!dataTable) return;\n",
              "\n",
              "          const docLinkHtml = 'Like what you see? Visit the ' +\n",
              "            '<a target=\"_blank\" href=https://colab.research.google.com/notebooks/data_table.ipynb>data table notebook</a>'\n",
              "            + ' to learn more about interactive tables.';\n",
              "          element.innerHTML = '';\n",
              "          dataTable['output_type'] = 'display_data';\n",
              "          await google.colab.output.renderOutput(dataTable, element);\n",
              "          const docLink = document.createElement('div');\n",
              "          docLink.innerHTML = docLinkHtml;\n",
              "          element.appendChild(docLink);\n",
              "        }\n",
              "      </script>\n",
              "    </div>\n",
              "  </div>\n",
              "  "
            ]
          },
          "metadata": {},
          "execution_count": 2
        }
      ]
    },
    {
      "cell_type": "markdown",
      "source": [
        "Проводим предварительный анализ"
      ],
      "metadata": {
        "id": "2923mX1IjjYR"
      }
    },
    {
      "cell_type": "code",
      "source": [
        "df.info()"
      ],
      "metadata": {
        "colab": {
          "base_uri": "https://localhost:8080/"
        },
        "id": "tZQfl4b7Js7f",
        "outputId": "1c545abd-6ca3-46ac-e476-550366f51342"
      },
      "execution_count": 3,
      "outputs": [
        {
          "output_type": "stream",
          "name": "stdout",
          "text": [
            "<class 'pandas.core.frame.DataFrame'>\n",
            "RangeIndex: 200 entries, 0 to 199\n",
            "Data columns (total 2 columns):\n",
            " #   Column  Non-Null Count  Dtype \n",
            "---  ------  --------------  ----- \n",
            " 0   text    200 non-null    object\n",
            " 1   label   200 non-null    int64 \n",
            "dtypes: int64(1), object(1)\n",
            "memory usage: 3.2+ KB\n"
          ]
        }
      ]
    },
    {
      "cell_type": "code",
      "source": [
        "df.label.unique()"
      ],
      "metadata": {
        "colab": {
          "base_uri": "https://localhost:8080/"
        },
        "id": "HPt1DRjbjxDd",
        "outputId": "d85bfc0f-29f5-4bb9-d3fa-ee28521885a1"
      },
      "execution_count": 4,
      "outputs": [
        {
          "output_type": "execute_result",
          "data": {
            "text/plain": [
              "array([0, 1, 2, 3, 4, 5])"
            ]
          },
          "metadata": {},
          "execution_count": 4
        }
      ]
    },
    {
      "cell_type": "markdown",
      "source": [
        "*   text - текст тестового вопроса\n",
        "*   label - метка класса: 0 – информатика, 1 – литература, 2 – биология, 3 – математика, 4 – русский язык, 5 - география\n",
        "\n"
      ],
      "metadata": {
        "id": "PbpIWlWokF4H"
      }
    },
    {
      "cell_type": "markdown",
      "source": [
        "Для удобства представим данные в виде списков"
      ],
      "metadata": {
        "id": "7N_OePVBjlAM"
      }
    },
    {
      "cell_type": "code",
      "source": [
        "texts = df['text'].tolist()\n",
        "labels = df['label'].tolist()"
      ],
      "metadata": {
        "id": "9xR1zfmzJ2td"
      },
      "execution_count": 5,
      "outputs": []
    },
    {
      "cell_type": "markdown",
      "source": [
        "Создадим Embeddings для дальнейшей векторизации тестов и саму модель, которую мы будем обучать, модель будет базироваться на GRU"
      ],
      "metadata": {
        "collapsed": false,
        "ExecuteTime": {
          "start_time": "2023-05-13T22:32:05.325707Z"
        },
        "id": "QJxoIKlfCQVC"
      }
    },
    {
      "cell_type": "code",
      "execution_count": 6,
      "outputs": [],
      "source": [
        "class MyWordEmbeddings(nn.Module):\n",
        "    def __init__(self, vocab_size, embedding_size):\n",
        "        super(MyWordEmbeddings, self).__init__()\n",
        "        self.embedding = nn.Embedding(vocab_size, embedding_size)\n",
        "\n",
        "    def forward(self, x):\n",
        "        x = self.embedding(x)\n",
        "        return x\n",
        "\n",
        "\n",
        "class RNNClustering(nn.Module):\n",
        "    def __init__(self, input_size, hidden_size, num_layers, num_clusters):\n",
        "        super(RNNClustering, self).__init__()\n",
        "        self.hidden_size = hidden_size\n",
        "        self.num_layers = num_layers\n",
        "        self.gru = nn.GRU(input_size, hidden_size, num_layers, batch_first=True)\n",
        "        self.linear = nn.Linear(hidden_size, num_clusters)\n",
        "\n",
        "    def forward(self, x):\n",
        "        h0 = torch.zeros(self.num_layers, x.size(0), self.hidden_size)\n",
        "        out, _ = self.gru(x, h0)\n",
        "        out = self.linear(out[:, -1, :])\n",
        "        return out"
      ],
      "metadata": {
        "ExecuteTime": {
          "end_time": "2023-05-13T19:59:06.417945Z",
          "start_time": "2023-05-13T19:59:06.325836Z"
        },
        "id": "2u0-07KICQVC"
      }
    },
    {
      "cell_type": "markdown",
      "source": [
        "Создадим словарь, который будет использоваться для преобразования слов в числовые индексы. Это позволит использовать их в качестве входных данных для нашей модели."
      ],
      "metadata": {
        "collapsed": false,
        "ExecuteTime": {
          "start_time": "2023-05-13T19:31:16.006890Z"
        },
        "id": "XdbPEF6pCQVD"
      }
    },
    {
      "cell_type": "code",
      "execution_count": 7,
      "outputs": [],
      "source": [
        "word2idx = {}\n",
        "idx = 0\n",
        "tokenized_texts = []\n",
        "\n",
        "for text in texts:\n",
        "    text = re.sub(r'[^а-яА-Я.,!?]', ' ', text.lower())\n",
        "    tokens = text.split()\n",
        "    tokenized_texts.append(tokens)\n",
        "    for token in tokens:\n",
        "        if token not in word2idx:\n",
        "            word2idx[token] = idx\n",
        "            idx += 1\n",
        "\n",
        "vocab_size = len(word2idx)\n",
        "\n",
        "max_len = max([len(tokens) for tokens in tokenized_texts])\n",
        "X = torch.zeros(len(tokenized_texts), max_len, dtype=torch.long)\n",
        "\n",
        "for i, tokens in enumerate(tokenized_texts):\n",
        "    for j, token in enumerate(tokens):\n",
        "        X[i, j] = word2idx[token]"
      ],
      "metadata": {
        "ExecuteTime": {
          "end_time": "2023-05-13T18:02:58.376321Z",
          "start_time": "2023-05-13T18:02:58.318696Z"
        },
        "id": "U6NZZdE8CQVD"
      }
    },
    {
      "cell_type": "code",
      "source": [
        "for key, value in list(word2idx.items())[:6]:\n",
        "    print(f\"'{key}': {value},\")"
      ],
      "metadata": {
        "colab": {
          "base_uri": "https://localhost:8080/"
        },
        "id": "a0mvbaEyrw64",
        "outputId": "9179d3f7-fc99-4169-83da-2da50e2dba15"
      },
      "execution_count": 8,
      "outputs": [
        {
          "output_type": "stream",
          "name": "stdout",
          "text": [
            "'полина': 0,\n",
            "'составляет': 1,\n",
            "'буквенные': 2,\n",
            "'коды': 3,\n",
            "'из': 4,\n",
            "'букв': 5,\n"
          ]
        }
      ]
    },
    {
      "cell_type": "markdown",
      "source": [
        "Создадим модель"
      ],
      "metadata": {
        "id": "dSyPKxTcbRY8"
      }
    },
    {
      "cell_type": "code",
      "execution_count": 9,
      "outputs": [],
      "source": [
        "embedding_size = 64\n",
        "hidden_size = 64\n",
        "num_layers = 3\n",
        "num_clusters = len(set(labels))\n",
        "\n",
        "word_embeddings = MyWordEmbeddings(vocab_size, embedding_size)\n",
        "model = RNNClustering(embedding_size, hidden_size, num_layers, num_clusters)"
      ],
      "metadata": {
        "ExecuteTime": {
          "end_time": "2023-05-13T18:06:36.493720Z",
          "start_time": "2023-05-13T18:06:29.377670Z"
        },
        "id": "0uWJB_nfCQVD"
      }
    },
    {
      "cell_type": "markdown",
      "source": [
        "Обучим модель"
      ],
      "metadata": {
        "id": "n9w8hy8PbT6j"
      }
    },
    {
      "cell_type": "code",
      "source": [
        "batch_size = 4\n",
        "lr = 0.01\n",
        "num_epochs = 10\n",
        "optimizer = optim.Adam(model.parameters(), lr=lr)\n",
        "ce_loss = nn.CrossEntropyLoss()\n",
        "\n",
        "dataset = TensorDataset(X)\n",
        "dataloader = DataLoader(dataset, batch_size=batch_size, shuffle=True)\n",
        "\n",
        "f_one = nn\n",
        "\n",
        "for epoch in range(num_epochs):\n",
        "    running_loss = 0.0\n",
        "    for inputs in dataloader:\n",
        "        optimizer.zero_grad()\n",
        "        embeddings = word_embeddings(inputs[0])\n",
        "        outputs = model(embeddings)\n",
        "        loss = ce_loss(outputs, outputs.max(1)[1])\n",
        "        loss.backward()\n",
        "        optimizer.step()\n",
        "        running_loss += loss.item()\n",
        "    print(\"Epoch {}\".format(epoch + 1), \"Loss = {:.4f}\".format(running_loss))"
      ],
      "metadata": {
        "colab": {
          "base_uri": "https://localhost:8080/"
        },
        "id": "DbY14lS4Zn1I",
        "outputId": "c3e822e8-5bce-4fe4-c197-03355ec6a66f"
      },
      "execution_count": 10,
      "outputs": [
        {
          "output_type": "stream",
          "name": "stdout",
          "text": [
            "Epoch 1 Loss = 2.2847\n",
            "Epoch 2 Loss = 0.0009\n",
            "Epoch 3 Loss = 0.0008\n",
            "Epoch 4 Loss = 0.0008\n",
            "Epoch 5 Loss = 0.0007\n",
            "Epoch 6 Loss = 0.0006\n",
            "Epoch 7 Loss = 0.0006\n",
            "Epoch 8 Loss = 0.0005\n",
            "Epoch 9 Loss = 0.0005\n",
            "Epoch 10 Loss = 0.0004\n"
          ]
        }
      ]
    },
    {
      "cell_type": "markdown",
      "source": [
        "Оценим модель с помощью метрик"
      ],
      "metadata": {
        "id": "PxwN99vqyBRn"
      }
    },
    {
      "cell_type": "code",
      "source": [
        "embeddings = word_embeddings(X)\n",
        "with torch.no_grad():\n",
        "    outputs = model(embeddings).numpy()\n",
        "    pred_labels = KMeans(n_clusters=num_clusters, n_init = 10).fit_predict(outputs)\n",
        "\n",
        "ari = adjusted_rand_score(labels, pred_labels)\n",
        "nmi = normalized_mutual_info_score(labels, pred_labels)\n",
        "f1_score = metrics.f1_score(labels, pred_labels, average='weighted')\n",
        "fmi = fowlkes_mallows_score(labels, pred_labels)\n",
        "\n",
        "print(\"Adjusted Rand index: {:.2f}\".format(ari))\n",
        "print(\"F1 score: {:.2f}\".format(f1_score))\n",
        "print(\"Normalized Mutual Information: {:.2f}\".format(nmi))\n",
        "print(\"Fowlkes-Mallows index: {:.2f}\".format(fmi))"
      ],
      "metadata": {
        "colab": {
          "base_uri": "https://localhost:8080/"
        },
        "id": "cx4GkYXJZvwx",
        "outputId": "d1603845-fde6-436f-9619-783aa9b9350b"
      },
      "execution_count": 11,
      "outputs": [
        {
          "output_type": "stream",
          "name": "stdout",
          "text": [
            "Adjusted Rand index: 0.03\n",
            "F1 score: 0.19\n",
            "Normalized Mutual Information: 0.13\n",
            "Fowlkes-Mallows index: 0.28\n"
          ]
        }
      ]
    },
    {
      "cell_type": "code",
      "source": [
        "for i in range(1, 10):\n",
        "  print(f\"Кластер: {labels[i]}, предсказанный кластер: {pred_labels[i]}, текст вопроса: {texts[i]}\")"
      ],
      "metadata": {
        "colab": {
          "base_uri": "https://localhost:8080/"
        },
        "id": "Qs9VuDvZ3xHc",
        "outputId": "3961bc8d-1c84-4fee-e510-8cb7f1f5d435"
      },
      "execution_count": 70,
      "outputs": [
        {
          "output_type": "stream",
          "name": "stdout",
          "text": [
            "Кластер: 0, предсказанный кластер: 0, текст вопроса: Петя составляет 6-буквенные коды из букв П, Е, Т, Я. Каждую букву можно использовать любое количество раз или совсем не использовать, при этом нельзя ставить подряд две гласные или две согласные. Сколько различных кодов может составить Петя?\n",
            "Кластер: 0, предсказанный кластер: 0, текст вопроса: Иван составляет 5-буквенные коды из букв И, В, А, Н. Буквы в коде могут повторяться, использовать все буквы не обязательно, но букву И нужно использовать хотя бы один раз. Сколько различных кодов может составить Иван?\n",
            "Кластер: 0, предсказанный кластер: 0, текст вопроса: Света составляет 5-буквенные коды из букв С, В, Е, Т, А. Буквы в коде могут повторяться, использовать все буквы не обязательно, но букву С нужно использовать хотя бы один раз. Сколько различных кодов может составить Света?\n",
            "Кластер: 0, предсказанный кластер: 0, текст вопроса: Для передачи сообщений используются 5-буквенные коды. В кодах разрешается использовать только буквы Я, Н, Д, Е, К, С, при этом код не может начинаться с согласной и содержит ровно две гласные буквы. Каждая из допустимых букв может повторяться в коде несколько раз или не встречаться вовсе. Сколько различных кодов удовлетворяют указанным условиям?\n",
            "Кластер: 0, предсказанный кластер: 0, текст вопроса: Вася составляет 6-ти буквенные кодовые слова из букв Я, Н, Д, Е, К, С. Каждая буква встречается ровно один раз, причем буквы Я и Н, а также буквы К и С должны стоять рядом. Сколько различных кодовых слов может составить Вася?\n",
            "Кластер: 1, предсказанный кластер: 0, текст вопроса: С помощью текстового редактора определите, сколько раз, не считая сносок, встречается слово «долг» или «Долг» в тексте романа в стихах А.С. Пушкина «Евгений Онегин». Другие формы слова «долг», такие как «долги», «долгами» и т.д., учитывать не следует. В ответе укажите только число.\n",
            "Кластер: 0, предсказанный кластер: 1, текст вопроса: Объем сообщения – 7,5 Кбайт. Известно, что данное сообщение содержит 7680 символов. Какова мощность алфавита?\n",
            "Кластер: 0, предсказанный кластер: 0, текст вопроса: На производстве работает автоматическая система информирования склада о необходимости доставки в цех определенных групп расходных материалов. Система устроена так, что по каналу связи на склад передается условный номер расходных материалов (при этом используется одинаковое, но минимально возможное количество бит в двоичном представлении этого числа). Известно, что был послан запрос на доставку 9 групп материалов из 19 используемых на производстве. Определите объем посланного сообщения (Ответ дайте в битах)\n",
            "Кластер: 0, предсказанный кластер: 1, текст вопроса: Объем сообщения – 7,5 Кбайт. Известно, что данное сообщение содержит 7680 символов. Какова мощность алфавита?\n"
          ]
        }
      ]
    },
    {
      "cell_type": "markdown",
      "source": [
        "Визуализация кластеров"
      ],
      "metadata": {
        "id": "Wrsz-sDpyEyH"
      }
    },
    {
      "cell_type": "code",
      "source": [
        "tsne = TSNE(n_components=2, perplexity=len(outputs)/num_clusters)\n",
        "embeddings_tsne = tsne.fit_transform(outputs)\n",
        "\n",
        "plt.scatter(embeddings_tsne[:, 0], embeddings_tsne[:, 1], c=pred_labels)\n",
        "plt.title(\"Кластеры\")\n",
        "plt.show()"
      ],
      "metadata": {
        "colab": {
          "base_uri": "https://localhost:8080/",
          "height": 452
        },
        "id": "lqOyCQuEarBR",
        "outputId": "b570861b-70ec-4425-ec62-1545d2dbb554"
      },
      "execution_count": 12,
      "outputs": [
        {
          "output_type": "display_data",
          "data": {
            "text/plain": [
              "<Figure size 640x480 with 1 Axes>"
            ],
            "image/png": "[encoded data removed]"
          },
          "metadata": {}
        }
      ]
    },
    {
      "cell_type": "markdown",
      "source": [
        "Визуализация определения оптимального количества классов с помощью метода локтя"
      ],
      "metadata": {
        "id": "TDnaSvF_yQ6W"
      }
    },
    {
      "cell_type": "code",
      "source": [
        "k_max = len(set(labels))\n",
        "\n",
        "wcss = []\n",
        "\n",
        "for k in range(1, k_max+1):\n",
        "    kmeans = KMeans(n_clusters=k, n_init = 10)\n",
        "    kmeans.fit(X)\n",
        "    wcss.append(kmeans.inertia_)\n",
        "\n",
        "plt.plot(range(1, k_max+1), wcss)\n",
        "plt.title('Метод локтя')\n",
        "plt.xlabel('Количество кластеров')\n",
        "plt.ylabel('WCSS')\n",
        "plt.show()"
      ],
      "metadata": {
        "colab": {
          "base_uri": "https://localhost:8080/",
          "height": 472
        },
        "id": "rvEn0wTXh66_",
        "outputId": "7e3d2a01-5700-4b86-8638-292e60bf128b"
      },
      "execution_count": 13,
      "outputs": [
        {
          "output_type": "display_data",
          "data": {
            "text/plain": [
              "<Figure size 640x480 with 1 Axes>"
            ],
            "image/png": "[encoded data removed]"
          },
          "metadata": {}
        }
      ]
    }
  ],
  "metadata": {
    "kernelspec": {
      "display_name": "Python 3",
      "language": "python",
      "name": "python3"
    },
    "language_info": {
      "codemirror_mode": {
        "name": "ipython",
        "version": 2
      },
      "file_extension": ".py",
      "mimetype": "text/x-python",
      "name": "python",
      "nbconvert_exporter": "python",
      "pygments_lexer": "ipython2",
      "version": "2.7.6"
    },
    "colab": {
      "provenance": []
    }
  },
  "nbformat": 4,
  "nbformat_minor": 0
}